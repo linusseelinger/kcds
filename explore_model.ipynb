{
 "cells": [
  {
   "cell_type": "code",
   "execution_count": 95,
   "metadata": {},
   "outputs": [],
   "source": [
    "earth_radius = 6371 # km\n",
    "earth_position = [0, 0] # km\n",
    "\n",
    "moon_radius = 1737 # km\n",
    "moon_position = [384400 * 0.1, 0] # km"
   ]
  },
  {
   "cell_type": "code",
   "execution_count": 96,
   "metadata": {},
   "outputs": [],
   "source": [
    "import umbridge\n",
    "import numpy as np\n",
    "import matplotlib.pyplot as plt\n",
    "\n",
    "\n",
    "model = umbridge.HTTPModel(\"http://localhost:4242\", \"forward\")\n",
    "\n",
    "def plot_trajectory(launch_velocity, launch_angle):\n",
    "  out = model([[launch_velocity, launch_angle]])\n",
    "\n",
    "  plt.gca().set_aspect('equal', adjustable='box')\n",
    "  plt.gca().set_xlim([-2e4, 6e4])\n",
    "  plt.gca().set_ylim([-4e4, 4e4])\n",
    "\n",
    "  # plot trajectory\n",
    "  plt.plot(out[0], out[1])\n",
    "\n",
    "  # plot earth\n",
    "  circ = plt.Circle((0, 0), earth_radius, color='b', fill=True)\n",
    "  plt.gcf().gca().add_artist(circ)\n",
    "\n",
    "  # plot moon\n",
    "  circ = plt.Circle((moon_position[0], moon_position[1]), moon_radius, color='g', fill=True)\n",
    "  plt.gcf().gca().add_artist(circ)\n",
    "\n",
    "  # plot point at t=300, event 3\n",
    "  if (out[4] != [0,0]):\n",
    "    plt.plot(out[4][0], out[4][1], 'rx')\n",
    "\n",
    "  # plot arrow for launch velocity\n",
    "  plt.arrow(0, earth_radius, launch_velocity * np.sin(launch_angle), launch_velocity * np.cos(launch_angle), color='r', width=3e2)\n"
   ]
  },
  {
   "cell_type": "code",
   "execution_count": 97,
   "metadata": {},
   "outputs": [
    {
     "data": {
      "application/vnd.jupyter.widget-view+json": {
       "model_id": "8c055972e3734ccc8e364989b2e2c3b3",
       "version_major": 2,
       "version_minor": 0
      },
      "text/plain": [
       "interactive(children=(FloatSlider(value=3.0, description='launch_velocity', max=4.0, min=3.0, step=0.01), Floa…"
      ]
     },
     "metadata": {},
     "output_type": "display_data"
    },
    {
     "data": {
      "text/plain": [
       "<function __main__.plot_trajectory(launch_velocity, launch_angle)>"
      ]
     },
     "execution_count": 97,
     "metadata": {},
     "output_type": "execute_result"
    }
   ],
   "source": [
    "import ipywidgets as widgets\n",
    "import math\n",
    "\n",
    "widgets.interact(plot_trajectory, launch_velocity=(3, 4, 1e-2), launch_angle=(math.pi*0.0, math.pi*0.5, math.pi/180))"
   ]
  }
 ],
 "metadata": {
  "kernelspec": {
   "display_name": "Python 3",
   "language": "python",
   "name": "python3"
  },
  "language_info": {
   "codemirror_mode": {
    "name": "ipython",
    "version": 3
   },
   "file_extension": ".py",
   "mimetype": "text/x-python",
   "name": "python",
   "nbconvert_exporter": "python",
   "pygments_lexer": "ipython3",
   "version": "3.10.12"
  },
  "orig_nbformat": 4
 },
 "nbformat": 4,
 "nbformat_minor": 2
}
