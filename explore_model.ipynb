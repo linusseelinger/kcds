{
 "cells": [
  {
   "cell_type": "code",
   "execution_count": null,
   "metadata": {},
   "outputs": [],
   "source": [
    "earth_radius = 6371 # km\n",
    "earth_position = [0, 0] # km\n",
    "\n",
    "moon_radius = 1737 # km\n",
    "moon_position = [384400 * 0.1, 0] # km\n",
    "\n",
    "observation = [47165.76552360456, 2789.596292820795] # km"
   ]
  },
  {
   "cell_type": "code",
   "execution_count": null,
   "metadata": {},
   "outputs": [],
   "source": [
    "import umbridge\n",
    "import numpy as np\n",
    "import matplotlib.pyplot as plt\n",
    "\n",
    "\n",
    "model = umbridge.HTTPModel(\"http://localhost:4242\", \"forward\")\n",
    "\n",
    "def plot_trajectory(launch_velocity, launch_angle):\n",
    "  out = model([[launch_velocity, launch_angle]])\n",
    "\n",
    "  plt.gca().set_aspect('equal', adjustable='box')\n",
    "  plt.gca().set_xlim([-2e4, 8e4])\n",
    "  plt.gca().set_ylim([-3e4, 3e4])\n",
    "\n",
    "  # plot trajectory\n",
    "  plt.plot(out[0], out[1])\n",
    "\n",
    "  # plot earth\n",
    "  circ = plt.Circle((0, 0), earth_radius, color='b', fill=True)\n",
    "  plt.gcf().gca().add_artist(circ)\n",
    "\n",
    "  # plot moon\n",
    "  circ = plt.Circle((moon_position[0], moon_position[1]), moon_radius, color='g', fill=True)\n",
    "  plt.gcf().gca().add_artist(circ)\n",
    "\n",
    "  # plot observation\n",
    "  plt.plot(observation[0], observation[1], 'cx', markersize=10)\n",
    "\n",
    "  # plot point at t=1e4\n",
    "  if (out[4] != [0,0]):\n",
    "    plt.plot(out[4][0], out[4][1], 'rx')\n",
    "\n",
    "  # plot point at t=2e4\n",
    "  if (out[5] != [0,0]):\n",
    "    plt.plot(out[5][0], out[5][1], 'rx')\n",
    "\n",
    "  # plot arrow for launch velocity\n",
    "  plt.arrow(0, earth_radius, launch_velocity * np.sin(launch_angle), launch_velocity * np.cos(launch_angle), color='r', width=3e2)\n"
   ]
  },
  {
   "cell_type": "code",
   "execution_count": null,
   "metadata": {},
   "outputs": [],
   "source": [
    "import ipywidgets as widgets\n",
    "import math\n",
    "\n",
    "widgets.interact(plot_trajectory, launch_velocity=(3, 4, 1e-2), launch_angle=(math.pi*0.0, math.pi*0.5, math.pi/180))"
   ]
  },
  {
   "cell_type": "code",
   "execution_count": null,
   "metadata": {},
   "outputs": [],
   "source": []
  }
 ],
 "metadata": {
  "kernelspec": {
   "display_name": "Python 3 (ipykernel)",
   "language": "python",
   "name": "python3"
  },
  "language_info": {
   "codemirror_mode": {
    "name": "ipython",
    "version": 3
   },
   "file_extension": ".py",
   "mimetype": "text/x-python",
   "name": "python",
   "nbconvert_exporter": "python",
   "pygments_lexer": "ipython3",
   "version": "3.12.7"
  }
 },
 "nbformat": 4,
 "nbformat_minor": 4
}
