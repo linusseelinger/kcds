{
 "cells": [
  {
   "cell_type": "markdown",
   "metadata": {},
   "source": [
    "# Forward UQ with QMCpy and UM-Bridge\n",
    "\n",
    "* Goal: Perform forward UQ with uncertain parameter $\\theta \\sim \\mathcal{U}([3.4, 3.5] \\times [1.0, 1.2])$\n",
    "* Connect to a running model via UM-Bridge, providing $F : \\mathbb{R}^n \\rightarrow \\mathbb{R}^m$.\n",
    "* Compute $\\mathbb{E}[F(\\theta)]$ via quasi-Monte Carlo, using QMCpy package"
   ]
  },
  {
   "cell_type": "code",
   "execution_count": null,
   "metadata": {},
   "outputs": [],
   "source": [
    "import qmcpy as qp\n",
    "from qmcpy.integrand.um_bridge_wrapper import UMBridgeWrapper\n",
    "import umbridge\n",
    "\n",
    "# Set up UM-Bridge model\n",
    "model = umbridge.HTTPModel(\"http://localhost:4242\", \"forward\")\n",
    "\n",
    "d = 2\n",
    "\n",
    "# Choose a distribution of suitable dimension to sample via QMC\n",
    "dnb2 = qp.DigitalNetB2(d)\n",
    "\n",
    "gauss_sobol = qp.Uniform(dnb2, lower_bound=[3.4, 1.0], upper_bound=[3.5, 1.2])\n",
    "\n",
    "# Create integrand based on umbridge model\n",
    "integrand = UMBridgeWrapper(gauss_sobol, model, parallel=False)\n",
    "\n",
    "# Run QMC integration to some accuracy and print results\n",
    "qmc_sobol_algorithm = qp.CubQMCSobolG(integrand, abs_tol=1e10, n_init = 2**8, n_max = 2**8)\n",
    "solution,data = qmc_sobol_algorithm.integrate()\n",
    "print(data)"
   ]
  },
  {
   "cell_type": "code",
   "execution_count": null,
   "metadata": {},
   "outputs": [],
   "source": [
    "import matplotlib.pyplot as plt\n",
    "\n",
    "for row in data.yfull:\n",
    "  plt.plot(row[0:201], row[201:402], alpha=0.2)\n",
    "plt.show()"
   ]
  },
  {
   "cell_type": "markdown",
   "metadata": {},
   "source": [
    "## Probability of impact\n",
    "The model returns\n",
    "* 201 trajectory entries for x values\n",
    "* 201 trajectory entries for y values\n",
    "* 1 binary entry indicating impact on moon\n",
    "* 1 binary entry indicating impact on earth\n",
    "* 2 entries for position of spacecraft at t=1e4\n",
    "* 2 entries for position of spacecraft at t=2e4\n",
    "\n",
    "Note: QMCpy flattens the output into a single array!"
   ]
  },
  {
   "cell_type": "code",
   "execution_count": null,
   "metadata": {},
   "outputs": [],
   "source": [
    "# Currently prints the expected value of impact on earth\n",
    "# What is the expected value of impact on moon?\n",
    "print(solution[403])"
   ]
  }
 ],
 "metadata": {
  "kernelspec": {
   "display_name": "Python 3 (ipykernel)",
   "language": "python",
   "name": "python3"
  },
  "language_info": {
   "codemirror_mode": {
    "name": "ipython",
    "version": 3
   },
   "file_extension": ".py",
   "mimetype": "text/x-python",
   "name": "python",
   "nbconvert_exporter": "python",
   "pygments_lexer": "ipython3",
   "version": "3.12.7"
  }
 },
 "nbformat": 4,
 "nbformat_minor": 4
}
