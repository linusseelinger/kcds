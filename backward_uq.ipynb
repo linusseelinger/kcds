{
 "cells": [
  {
   "cell_type": "code",
   "execution_count": null,
   "metadata": {},
   "outputs": [],
   "source": [
    "import numpy as np\n",
    "import pymc as pm\n",
    "from pytensor import tensor as pt\n",
    "from pytensor.gradient import verify_grad\n",
    "import arviz as az\n",
    "import matplotlib.pyplot as plt\n",
    "import umbridge\n",
    "from umbridge.pymc import UmbridgeOp\n",
    "\n",
    "# Set up a pytensor op connecting to UM-Bridge model\n",
    "op = UmbridgeOp(\"http://localhost:4242\", \"posterior\")\n",
    "\n",
    "# Define input parameter dimension\n",
    "input_dim = 2\n",
    "\n",
    "with pm.Model() as model:\n",
    "    # PyMC can treat models with a single 1D output as a\n",
    "    # log probability density function (PDF)\n",
    "    posterior = pm.DensityDist('posterior',logp=op,shape=input_dim)\n",
    "\n",
    "    prior_covariance = np.array([[1e-2, 0], [0, 1e-2]])\n",
    "    prior_mean = np.array([3.6, 1.1])\n",
    "\n",
    "    inferencedata = pm.sample(tune=100,step=pm.Metropolis(S=prior_covariance),draws=500,chains=1,cores=1,initvals=[{'posterior':prior_mean}])\n",
    "\n"
   ]
  },
  {
   "cell_type": "code",
   "execution_count": null,
   "metadata": {},
   "outputs": [],
   "source": [
    "az.plot_pair(inferencedata);\n",
    "az.plot_pair(inferencedata, kind='kde')\n",
    "az.plot_posterior(inferencedata)"
   ]
  },
  {
   "cell_type": "code",
   "execution_count": null,
   "metadata": {},
   "outputs": [],
   "source": [
    "earth_radius = 6371 # km\n",
    "earth_position = [0, 0] # km\n",
    "\n",
    "moon_radius = 1737 # km\n",
    "moon_position = [384400 * 0.1, 0] # km\n",
    "\n",
    "observation_1e4 = [26196.977047775636, 7987.481087658843] # km\n",
    "observation_2e4 = [47165.76552360456, 2789.596292820795] # km"
   ]
  },
  {
   "cell_type": "code",
   "execution_count": null,
   "metadata": {},
   "outputs": [],
   "source": [
    "\n",
    "import matplotlib.pyplot as plt\n",
    "\n",
    "model = umbridge.HTTPModel(\"http://localhost:4242\", \"forward\")\n",
    "\n",
    "plt.gca().set_aspect('equal', adjustable='box')\n",
    "plt.gca().set_xlim([-2e4, 8e4])\n",
    "plt.gca().set_ylim([-3e4, 3e4])\n",
    "\n",
    "# plot earth\n",
    "circ = plt.Circle((0, 0), earth_radius, color='b', fill=True)\n",
    "plt.gcf().gca().add_artist(circ)\n",
    "\n",
    "# plot moon\n",
    "circ = plt.Circle((moon_position[0], moon_position[1]), moon_radius, color='g', fill=True)\n",
    "plt.gcf().gca().add_artist(circ)\n",
    "\n",
    "# plot posterior predictive trajectories\n",
    "for sample in inferencedata.posterior.posterior.values[0]:\n",
    "    out = model([sample.tolist()])\n",
    "\n",
    "    plt.plot(out[0], out[1], 'b', alpha=0.02)\n",
    "    if (out[4] != [0,0]):\n",
    "        plt.plot(out[4][0], out[4][1], 'rx', alpha=0.5)\n",
    "    if (out[5] != [0,0]):\n",
    "        plt.plot(out[5][0], out[5][1], 'rx', alpha=0.5)\n",
    "\n",
    "# plot observation\n",
    "plt.plot(observation_1e4[0], observation_1e4[1], 'cx', markersize=10)\n",
    "plt.plot(observation_2e4[0], observation_2e4[1], 'cx', markersize=10)\n",
    "\n",
    "plt.show()"
   ]
  },
  {
   "cell_type": "code",
   "execution_count": null,
   "metadata": {},
   "outputs": [],
   "source": []
  }
 ],
 "metadata": {
  "kernelspec": {
   "display_name": "Python 3 (ipykernel)",
   "language": "python",
   "name": "python3"
  },
  "language_info": {
   "codemirror_mode": {
    "name": "ipython",
    "version": 3
   },
   "file_extension": ".py",
   "mimetype": "text/x-python",
   "name": "python",
   "nbconvert_exporter": "python",
   "pygments_lexer": "ipython3",
   "version": "3.12.7"
  }
 },
 "nbformat": 4,
 "nbformat_minor": 4
}
